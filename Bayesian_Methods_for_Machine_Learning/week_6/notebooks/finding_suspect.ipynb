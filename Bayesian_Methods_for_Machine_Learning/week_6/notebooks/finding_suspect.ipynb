{
 "cells": [
  {
   "cell_type": "markdown",
   "metadata": {
    "colab_type": "text",
    "id": "K8gN_VVcOrcw"
   },
   "source": [
    "# Final project: Finding the suspect"
   ]
  },
  {
   "cell_type": "markdown",
   "metadata": {
    "colab_type": "text",
    "id": "L2Vwp55tOrcx"
   },
   "source": [
    "<a href=\"https://en.wikipedia.org/wiki/Facial_composite\">Facial composites</a> are widely used in forensics to generate images of suspects. Since victim or witness usually isn't good at drawing, computer-aided generation is applied to reconstruct the face attacker. One of the most commonly used techniques is evolutionary systems that compose the final face from many predefined parts.\n",
    "\n",
    "In this project, we will try to implement an app for creating a facial composite that will be able to construct desired faces without explicitly providing databases of templates. We will apply Variational Autoencoders and Gaussian processes for this task.\n",
    "\n",
    "The final project is developed in a way that you can apply learned techniques to real project yourself. We will include the main guidelines and hints, but a great part of the project will need your creativity and experience from previous assignments."
   ]
  },
  {
   "cell_type": "markdown",
   "metadata": {
    "colab_type": "text",
    "id": "iTs2vPH5Orcy"
   },
   "source": [
    "### Setup\n",
    "Load auxiliary files and then install and import the necessary libraries."
   ]
  },
  {
   "cell_type": "code",
   "execution_count": null,
   "metadata": {
    "colab": {
     "base_uri": "https://localhost:8080/",
     "height": 264
    },
    "colab_type": "code",
    "id": "DvHxpjmoOrcz",
    "outputId": "9b30bfc1-afe5-4fb4-d6f7-8163b78fdb19"
   },
   "outputs": [],
   "source": [
    "import os\n",
    "\n",
    "def download_file(url, file_path):\n",
    "    print(url, file_path)\n",
    "    if os.path.exists(file_path):\n",
    "        os.remove(file_path)\n",
    "    template = \"wget '{}' -O '{}'\"\n",
    "    os.system(template.format(url, file_path))\n",
    "\n",
    "def load_data_final_project():\n",
    "    download_file(\n",
    "        \"https://github.com/hse-aml/bayesian-methods-for-ml/\"\n",
    "        \"releases/download/v0.1/CelebA_VAE_small_8.h5\",\n",
    "        \"CelebA_VAE_small_8.h5\"\n",
    "    )\n",
    "    \n",
    "load_data_final_project()"
   ]
  },
  {
   "cell_type": "code",
   "execution_count": null,
   "metadata": {
    "colab": {
     "base_uri": "https://localhost:8080/",
     "height": 35
    },
    "colab_type": "code",
    "id": "uP4f3F3ROrc6",
    "outputId": "0069a96b-b32b-4feb-8318-303528ea469f"
   },
   "outputs": [],
   "source": [
    "import numpy as np\n",
    "import matplotlib.pyplot as plt\n",
    "from IPython.display import clear_output\n",
    "import tensorflow as tf\n",
    "import GPy\n",
    "import GPyOpt\n",
    "import keras\n",
    "from keras.layers import Input, Dense, Lambda, InputLayer, concatenate, Activation, Flatten, Reshape\n",
    "from keras.layers.normalization import BatchNormalization\n",
    "from keras.layers.convolutional import Conv2D, Deconv2D\n",
    "from keras.losses import MSE\n",
    "from keras.models import Model, Sequential\n",
    "from keras import backend as K\n",
    "from keras import metrics\n",
    "from keras.datasets import mnist\n",
    "from keras.utils import np_utils\n",
    "from tensorflow.python.framework import ops\n",
    "from tensorflow.python.framework import dtypes\n",
    "import utils\n",
    "import os\n",
    "%matplotlib inline"
   ]
  },
  {
   "cell_type": "markdown",
   "metadata": {
    "colab_type": "text",
    "id": "m6pozfp6Orc-"
   },
   "source": [
    "## Model description\n",
    "We will first train variational autoencoder on face images to compress them to low dimension. One important feature of VAE is that constructed latent space is dense. That means that we can traverse the latent space and reconstruct any point along our path into a valid face.\n",
    "\n",
    "Using this continuous latent space we can use Bayesian optimization to maximize some similarity function between a person's face in victim/witness's memory and a face reconstructed from the current point of latent space. Bayesian optimization is an appropriate choice here since people start to forget details about the attacker after they were shown many similar photos. Because of this, we want to reconstruct the photo with the smallest possible number of trials."
   ]
  },
  {
   "cell_type": "markdown",
   "metadata": {
    "colab_type": "text",
    "id": "89a4n8qQOrc_"
   },
   "source": [
    "## Generating faces"
   ]
  },
  {
   "cell_type": "markdown",
   "metadata": {
    "colab_type": "text",
    "id": "ECDvU8mYOrdA"
   },
   "source": [
    "For this task, you will need to use some database of face images. There are multiple datasets available on the web that you can use: for example, <a href=\"http://mmlab.ie.cuhk.edu.hk/projects/CelebA.html\">CelebA</a> or <a href=\"http://vis-www.cs.umass.edu/lfw/\">Labeled Faces in the Wild</a>. We used Aligned & Cropped version of CelebA that you can find <a href=\"https://www.dropbox.com/sh/8oqt9vytwxb3s4r/AADSNUu0bseoCKuxuI5ZeTl1a/Img?dl=0&preview=img_align_celeba.zip\">here</a> to pretrain VAE model for you. See optional part of the final project if you wish to train VAE on your own."
   ]
  },
  {
   "cell_type": "markdown",
   "metadata": {
    "colab_type": "text",
    "id": "wla8AgUtOrdB"
   },
   "source": [
    "<b>Task 1:</b> Train VAE on faces dataset and draw some samples from it. (You can use code from previous assignments. You may also want to use convolutional encoders and decoders as well as tuning hyperparameters)"
   ]
  },
  {
   "cell_type": "code",
   "execution_count": null,
   "metadata": {
    "colab": {},
    "colab_type": "code",
    "id": "L_FRN9SaOrdB"
   },
   "outputs": [],
   "source": [
    "sess = tf.InteractiveSession()\n",
    "K.set_session(sess)"
   ]
  },
  {
   "cell_type": "code",
   "execution_count": null,
   "metadata": {
    "colab": {},
    "colab_type": "code",
    "id": "Ri61Sqh6OrdE"
   },
   "outputs": [],
   "source": [
    "latent_size = 8"
   ]
  },
  {
   "cell_type": "code",
   "execution_count": null,
   "metadata": {
    "colab": {
     "base_uri": "https://localhost:8080/",
     "height": 90
    },
    "colab_type": "code",
    "id": "GLv5LgfyOrdK",
    "outputId": "d243418a-1095-4edf-e5c6-368b18fc1431",
    "scrolled": false
   },
   "outputs": [],
   "source": [
    "vae, encoder, decoder = utils.create_vae(batch_size=128, latent=latent_size)\n",
    "sess.run(tf.global_variables_initializer())\n",
    "vae.load_weights('CelebA_VAE_small_8.h5')"
   ]
  },
  {
   "cell_type": "code",
   "execution_count": null,
   "metadata": {
    "colab": {},
    "colab_type": "code",
    "id": "rjCVeKshOrdM"
   },
   "outputs": [],
   "source": [
    "K.set_learning_phase(False)"
   ]
  },
  {
   "cell_type": "code",
   "execution_count": null,
   "metadata": {
    "colab": {},
    "colab_type": "code",
    "id": "z4zJcc2gOrdO"
   },
   "outputs": [],
   "source": [
    "latent_placeholder = tf.placeholder(tf.float32, (1, latent_size))\n",
    "decode = decoder(latent_placeholder)"
   ]
  },
  {
   "cell_type": "code",
   "execution_count": null,
   "metadata": {
    "colab": {},
    "colab_type": "code",
    "id": "8Z7O0E_d-my_"
   },
   "outputs": [],
   "source": [
    "np.random.seed(73)"
   ]
  },
  {
   "cell_type": "markdown",
   "metadata": {
    "colab_type": "text",
    "id": "kmLyCeJzOrdQ"
   },
   "source": [
    "#### GRADED 1 (3 points): Draw 25 samples from trained VAE model\n",
    "As the first part of the assignment, you need to become familiar with the trained model. For all tasks, you will only need a decoder to reconstruct samples from a latent space.\n",
    "\n",
    "To decode the latent variable, you need to run ```decode``` operation defined above with random samples from a standard normal distribution."
   ]
  },
  {
   "cell_type": "code",
   "execution_count": null,
   "metadata": {
    "colab": {},
    "colab_type": "code",
    "id": "NFXTcclh9Zy9"
   },
   "outputs": [],
   "source": [
    "latent_vec = np.random.normal(size=(1, latent_size))\n",
    "image = sess.run(decode, feed_dict={latent_placeholder : latent_vec})[0]"
   ]
  },
  {
   "cell_type": "code",
   "execution_count": null,
   "metadata": {
    "colab": {
     "base_uri": "https://localhost:8080/",
     "height": 575
    },
    "colab_type": "code",
    "id": "n6QG1sMIOrdQ",
    "outputId": "949600b8-b538-49fb-ca54-62d66ec4ad99"
   },
   "outputs": [],
   "source": [
    "### TODO: Draw 25 samples from VAE here\n",
    "plt.figure(figsize=(10, 10))\n",
    "for i in range(25):\n",
    "    plt.subplot(5, 5, i+1)\n",
    "    latent_vec = np.random.normal(size=(1, latent_size))\n",
    "    image = sess.run(decode, feed_dict={latent_placeholder : latent_vec})[0] ### YOUR CODE HERE\n",
    "    plt.imshow(np.clip(image, 0, 1))\n",
    "    plt.axis('off')"
   ]
  },
  {
   "cell_type": "markdown",
   "metadata": {
    "colab_type": "text",
    "id": "m_Nkv8xXOrdT"
   },
   "source": [
    "## Search procedure"
   ]
  },
  {
   "cell_type": "markdown",
   "metadata": {
    "colab_type": "text",
    "id": "-ed6OU8FOrdU"
   },
   "source": [
    "Now that we have a way to reconstruct images, we need to set up an optimization procedure to find a person that will be the most similar to the one we are thinking about. To do so, we need to set up some scoring utility. Imagine that you want to generate an image of Brad Pitt. You start with a small number of random samples, say 5, and rank them according to their similarity to your vision of Brad Pitt: 1 for the worst, 5 for the best. You then rate image by image using GPyOpt that works in a latent space of VAE. For the new image, you need to somehow assign a real number that will show how good this image is. The simple idea is to ask a user to compare a new image with previous images (along with their scores). A user then enters score to a current image.\n",
    "\n",
    "The proposed scoring has a lot of drawbacks, and you may feel free to come up with new ones: e.g. showing user 9 different images and asking a user which image looks the \"best\".\n",
    "\n",
    "Note that the goal of this task is for you to implement a new algorithm by yourself. You may try different techniques for your task and select one that works the best."
   ]
  },
  {
   "cell_type": "markdown",
   "metadata": {
    "colab_type": "text",
    "id": "PeDzCr5oOrdW"
   },
   "source": [
    "<b>Task 2:</b> Implement person search using Bayesian optimization. (You can use code from the assignment on Gaussian Processes)\n",
    "\n",
    "Note: try varying `acquisition_type` and `acquisition_par` parameters."
   ]
  },
  {
   "cell_type": "code",
   "execution_count": null,
   "metadata": {
    "colab": {},
    "colab_type": "code",
    "id": "0VeSrdJcOrdX"
   },
   "outputs": [],
   "source": [
    "class FacialComposit:\n",
    "    def __init__(self, decoder, latent_size):\n",
    "        self.latent_size = latent_size\n",
    "        self.latent_placeholder = tf.placeholder(tf.float32, (1, latent_size))\n",
    "        self.decode = decoder(self.latent_placeholder)\n",
    "        self.samples = None\n",
    "        self.images = None\n",
    "        self.rating = None\n",
    "\n",
    "    def _get_image(self, latent):\n",
    "        img = sess.run(self.decode, \n",
    "                       feed_dict={self.latent_placeholder: latent[None, :]})[0]\n",
    "        img = np.clip(img, 0, 1)\n",
    "        return img\n",
    "\n",
    "    @staticmethod\n",
    "    def _show_images(images, titles):\n",
    "        assert len(images) == len(titles)\n",
    "        clear_output()\n",
    "        plt.figure(figsize=(3*len(images), 3))\n",
    "        n = len(titles)\n",
    "        for i in range(n):\n",
    "            plt.subplot(1, n, i+1)\n",
    "            plt.imshow(images[i])\n",
    "            plt.title(str(titles[i]))\n",
    "            plt.axis('off')\n",
    "        plt.show()\n",
    "\n",
    "    @staticmethod\n",
    "    def _draw_border(image, w=2):\n",
    "        bordred_image = image.copy()\n",
    "        bordred_image[:, :w] = [1, 0, 0]\n",
    "        bordred_image[:, -w:] = [1, 0, 0]\n",
    "        bordred_image[:w, :] = [1, 0, 0]\n",
    "        bordred_image[-w:, :] = [1, 0, 0]\n",
    "        return bordred_image\n",
    "\n",
    "    def test_dev(self, n_start=5, select_top=None):\n",
    "        return self.rating, np.quantile(self.rating, 0.5, interpolation='nearest')\n",
    "\n",
    "    def query_initial(self, n_start=5, select_top=None):\n",
    "        '''\n",
    "        Creates initial points for Bayesian optimization\n",
    "        Generate *n_start* random images and asks user to rank them.\n",
    "        Gives maximum score to the best image and minimum to the worst.\n",
    "        :param n_start: number of images to rank initialy.\n",
    "        :param select_top: number of images to keep\n",
    "        '''\n",
    "\n",
    "        samples = np.random.normal(size=(n_start,self.latent_size))\n",
    "        images = np.array([self._get_image(samples[i]) for i in range(n_start)])\n",
    "\n",
    "        if select_top is None:\n",
    "          select_top = n_start\n",
    "\n",
    "        self._show_images(images, range(1,n_start+1))\n",
    "        print('Initialization for Bayesian Optimization')\n",
    "        print('Please provide a rating for the following images, between 0 and 9')\n",
    "\n",
    "        rating = []\n",
    "        for i in range(n_start):\n",
    "            rating_x = int(input('Rating for IMAGE ' + str(i + 1)+ '  :  '))\n",
    "            rating.append(rating_x)\n",
    "\n",
    "        select_top_idx = np.argsort(rating)[::-1][:select_top]\n",
    "\n",
    "        self.samples = samples[select_top_idx]### YOUR CODE HERE (size: select_top x 64 x 64 x 3)\n",
    "        self.images = images[select_top_idx]### YOUR CODE HERE (size: select_top x 64 x 64 x 3)\n",
    "        self.rating = np.array(rating)[select_top_idx] ### YOUR CODE HERE (size: select_top)\n",
    "\n",
    "        # Check that tensor sizes are correct\n",
    "        np.testing.assert_equal(self.rating.shape, [select_top])\n",
    "        np.testing.assert_equal(self.images.shape, [select_top, 64, 64, 3])\n",
    "        np.testing.assert_equal(self.samples.shape, [select_top, self.latent_size])\n",
    "\n",
    "    def evaluate(self, candidate):\n",
    "        '''\n",
    "        Queries candidate vs known image set.\n",
    "        Adds candidate into images pool.\n",
    "        :param candidate: latent vector of size 1xlatent_size\n",
    "        '''\n",
    "        initial_size = len(self.images)\n",
    "        \n",
    "        ### YOUR CODE HERE\n",
    "        ## Show user an image and ask to assign score to it.\n",
    "        ## You may want to show some images to user along with their scores\n",
    "        ## You should also save candidate, corresponding image and rating\n",
    "        candidate_image = self._get_image(candidate[0]).reshape(1,64,64,3)\n",
    "\n",
    "        def find_nearest(array, value):\n",
    "            array = np.asarray(array)\n",
    "            idx = (np.abs(array - value)).argmin()\n",
    "            return idx\n",
    "        \n",
    "        avg_rating_idx = find_nearest(self.rating, np.average(self.rating))\n",
    "        image_idx = np.array([0, avg_rating_idx, (initial_size - 1) // 2, initial_size - 1])\n",
    "        images = self.images[image_idx]\n",
    "        ratings = self.rating[image_idx]\n",
    "\n",
    "        comp = np.append(images, candidate_image, axis=0)\n",
    "\n",
    "        self._show_images(comp, [f'Best Image (r:{ratings[0]})',\n",
    "                                 f'Avg Image (r:{ratings[1]})',\n",
    "                                 f'Middle Image (r:{ratings[2]})',\n",
    "                                 f'Worst Image (r:{ratings[3]})', 'Candidate'])\n",
    "\n",
    "        print(\"Bayesian optimization loop.\")\n",
    "        print(\"Please provide a rating for the new candidate image from 0 to 9\")\n",
    "        candidate_rating = int(input(\"Rating for candidate image : \"))\n",
    "        rating = np.append(self.rating, candidate_rating)\n",
    "\n",
    "        sorted_rating_idx = np.argsort(rating)[::-1]\n",
    "\n",
    "        self.images = np.append(self.images, candidate_image, axis=0)[sorted_rating_idx]\n",
    "        self.rating = rating[sorted_rating_idx]\n",
    "        self.samples = np.append(self.samples, candidate, axis=0)[sorted_rating_idx]\n",
    "\n",
    "        assert len(self.images) == initial_size + 1\n",
    "        assert len(self.rating) == initial_size + 1\n",
    "        assert len(self.samples) == initial_size + 1\n",
    "        return candidate_rating\n",
    "\n",
    "    def optimize(self, n_iter=10, w=4, acquisition_type='EI', acquisition_par=0.3):\n",
    "        select_top = 5\n",
    "        if self.samples is None:\n",
    "            self.query_initial(n_start=20, select_top=select_top)\n",
    "\n",
    "        bounds = [{'name': 'z_{0:03d}'.format(i),\n",
    "                   'type': 'continuous',\n",
    "                   'domain': (-w, w)} \n",
    "                  for i in range(self.latent_size)]\n",
    "        optimizer = GPyOpt.methods.BayesianOptimization(f=self.evaluate, domain=bounds,\n",
    "                                                        acquisition_type = acquisition_type,\n",
    "                                                        acquisition_par = acquisition_par,\n",
    "                                                        exact_eval=False, # Since we are not sure\n",
    "                                                        model_type='GP',\n",
    "                                                        X=self.samples,\n",
    "                                                        Y=self.rating[:, None],\n",
    "                                                        maximize=True)\n",
    "        optimizer.run_optimization(max_iter=n_iter, eps=-1)\n",
    "\n",
    "    def get_best(self):\n",
    "        index_best = np.argmax(self.rating)\n",
    "        return self.images[index_best]\n",
    "\n",
    "    def draw_best(self, title=''):\n",
    "        index_best = np.argmax(self.rating)\n",
    "        image = self.images[index_best]\n",
    "        plt.imshow(image)\n",
    "        plt.title(title)\n",
    "        plt.axis('off')\n",
    "        plt.show()"
   ]
  },
  {
   "cell_type": "markdown",
   "metadata": {
    "colab_type": "text",
    "id": "me4go7pXOrdc"
   },
   "source": [
    "Describe your approach below: How do you assign a score to a new image? How do you select reference images to help user assign a new score? What are the limitations of your approach?"
   ]
  },
  {
   "cell_type": "markdown",
   "metadata": {
    "colab_type": "text",
    "id": "U3svS-VdOrdc"
   },
   "source": [
    "> ### How do you assign a score to a new image ?\n",
    "We first start with a random pick of 10 samples from which we get the images using the decoder of the VAE. We ask the user to score the ten images on a scale from 0 to 9 depending on the objective they have (eg: lecturer, darkest hair). Once the scoring of the images is done, we select the top 5 images to use as initialization of the bayesian optimization process. A sample is then generated by the optimizer, displayed to the user for scoring. This process is done 10 times. At each iteration, the optimizer takes into account the new rating to generate the next candidate. At the end, the best rated image is selected.\n",
    "\n",
    "> ### How do you select reference images to help user assign a new score?\n",
    "At each iteration, the current best, the worst and the median image are selected in the sense of the previous ratings, so that the use can rate the newly generated image according the previous ratings.\n",
    "\n",
    "> ### What are the limitations of your approach ?\n",
    "Faces are complicated to describe, for more complicated queries the optimizer has hard time finding what features to optimize when it come to answer more complex queries, like finding the lecturer. It is very hard to give feedback on what exact feature the user is giving feedback. When we want to reconstruct faces with more details than a simple hair color or smile, the current system of user feedback might be too poor to express those complicated features."
   ]
  },
  {
   "cell_type": "markdown",
   "metadata": {
    "colab_type": "text",
    "id": "Sw52dR9fOrdd"
   },
   "source": [
    "## Testing your algorithm"
   ]
  },
  {
   "cell_type": "markdown",
   "metadata": {
    "colab_type": "text",
    "id": "dz6HxoBaOrde"
   },
   "source": [
    "In these sections, we will apply the implemented app to search for different people. Each task will ask you to generate images that will have some property like \"dark hair\" or \"mustache\". You will need to run your search algorithm and provide the best discovered image."
   ]
  },
  {
   "cell_type": "markdown",
   "metadata": {
    "colab_type": "text",
    "id": "M4pSInvJOrdf"
   },
   "source": [
    "#### Task 3.1: Finding person with darkest hair"
   ]
  },
  {
   "cell_type": "code",
   "execution_count": null,
   "metadata": {
    "colab": {
     "base_uri": "https://localhost:8080/",
     "height": 244
    },
    "colab_type": "code",
    "id": "X-dHUCanOrdg",
    "outputId": "b40a6129-2a9e-4fcb-f0bc-76cd4180eed8"
   },
   "outputs": [],
   "source": [
    "composit = FacialComposit(decoder, 8)\n",
    "composit.optimize()"
   ]
  },
  {
   "cell_type": "code",
   "execution_count": null,
   "metadata": {
    "colab": {
     "base_uri": "https://localhost:8080/",
     "height": 264
    },
    "colab_type": "code",
    "id": "2DxqZwdPOrdl",
    "outputId": "05d8ffdc-658b-4c23-ded8-ae587a02c11d"
   },
   "outputs": [],
   "source": [
    "composit.draw_best('Darkest hair')"
   ]
  },
  {
   "cell_type": "markdown",
   "metadata": {
    "colab_type": "text",
    "id": "wtl3xYbOOrdq"
   },
   "source": [
    "#### Task 3.2. Finding person with the widest smile"
   ]
  },
  {
   "cell_type": "code",
   "execution_count": null,
   "metadata": {
    "colab": {
     "base_uri": "https://localhost:8080/",
     "height": 244
    },
    "colab_type": "code",
    "id": "Th-Y3kb6Ordr",
    "outputId": "9eecb60e-2a1a-488f-bb0f-c74b0d37c456"
   },
   "outputs": [],
   "source": [
    "composit = FacialComposit(decoder, 8)\n",
    "composit.optimize()"
   ]
  },
  {
   "cell_type": "code",
   "execution_count": null,
   "metadata": {
    "colab": {
     "base_uri": "https://localhost:8080/",
     "height": 264
    },
    "colab_type": "code",
    "id": "WyULC15WOrdt",
    "outputId": "e9d58fd1-913c-4ce7-ef51-fbec063dc907"
   },
   "outputs": [],
   "source": [
    "composit.draw_best('Widest smile')"
   ]
  },
  {
   "cell_type": "markdown",
   "metadata": {
    "colab_type": "text",
    "id": "dIt2AbjIOrdv"
   },
   "source": [
    "#### Task 3.3. Finding Daniil Polykovskiy or Alexander Novikov — lecturers of this course"
   ]
  },
  {
   "cell_type": "markdown",
   "metadata": {
    "colab_type": "text",
    "id": "D4WWR8TsOrdw"
   },
   "source": [
    "Note: this task highly depends on the quality of a VAE and a search algorithm. You may need to restart your search algorithm a few times and start with larget initial set."
   ]
  },
  {
   "cell_type": "code",
   "execution_count": null,
   "metadata": {
    "colab": {
     "base_uri": "https://localhost:8080/",
     "height": 244
    },
    "colab_type": "code",
    "id": "uQxSxNyfOrdw",
    "outputId": "bf3420bc-8cc2-4281-fc4a-96583661a572"
   },
   "outputs": [],
   "source": [
    "composit = FacialComposit(decoder, 8)\n",
    "composit.optimize(n_iter=25, acquisition_par=0.5)"
   ]
  },
  {
   "cell_type": "code",
   "execution_count": null,
   "metadata": {
    "colab": {
     "base_uri": "https://localhost:8080/",
     "height": 264
    },
    "colab_type": "code",
    "id": "7zZuCLJQOrd0",
    "outputId": "802e8102-1f61-4854-c20f-b1a25dc6ad73"
   },
   "outputs": [],
   "source": [
    "composit.draw_best('Lecturer')"
   ]
  },
  {
   "cell_type": "markdown",
   "metadata": {
    "colab_type": "text",
    "id": "Ru8T_44GOrd2"
   },
   "source": [
    "#### <small>Don't forget to post resulting image of lecturers on the forum ;)</small>"
   ]
  },
  {
   "cell_type": "markdown",
   "metadata": {
    "colab_type": "text",
    "id": "15c0hFCyOrd3"
   },
   "source": [
    "#### Task 3.4. Finding specific person (optional, but very cool)"
   ]
  },
  {
   "cell_type": "markdown",
   "metadata": {
    "colab_type": "text",
    "id": "PHSAo6_zOrd4"
   },
   "source": [
    "Now that you have a good sense of what your algorithm can do, here is an optional assignment for you. Think of a famous person and take look at his/her picture for a minute. Then use your app to create an image of the person you thought of. You can post it in the forum <a href=\"https://www.coursera.org/learn/bayesian-methods-in-machine-learning/discussions/forums/SE06u3rLEeeh0gq4yYKIVA\">Final project: guess who!</a>\n"
   ]
  },
  {
   "cell_type": "code",
   "execution_count": null,
   "metadata": {
    "colab": {},
    "colab_type": "code",
    "id": "77HswJGmOrd5"
   },
   "outputs": [],
   "source": [
    "### Your code here"
   ]
  }
 ],
 "metadata": {
  "accelerator": "GPU",
  "colab": {
   "collapsed_sections": [],
   "name": "Copy of finding_suspect.ipynb",
   "provenance": []
  },
  "kernelspec": {
   "display_name": "Python 3",
   "language": "python",
   "name": "python3"
  },
  "language_info": {
   "codemirror_mode": {
    "name": "ipython",
    "version": 3
   },
   "file_extension": ".py",
   "mimetype": "text/x-python",
   "name": "python",
   "nbconvert_exporter": "python",
   "pygments_lexer": "ipython3",
   "version": "3.7.6"
  }
 },
 "nbformat": 4,
 "nbformat_minor": 1
}
